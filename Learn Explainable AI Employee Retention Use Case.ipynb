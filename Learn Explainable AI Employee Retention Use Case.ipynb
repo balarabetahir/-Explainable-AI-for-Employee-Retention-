{
 "cells": [
  {
   "cell_type": "markdown",
   "id": "b16c0d80-486a-4366-acb1-6fc2d2af67a0",
   "metadata": {},
   "source": [
    "In this project, we will analyze the factors influencing employee retention—whether employees leave or stay in a company—using machine learning techniques, including Random Forest classifiers. A central focus of this project is enhancing explainability through advanced tools like the TED_CartesianExplainer, empowering decision-makers to understand not only the predictions but also the reasons behind them.\n",
    "\n",
    "Explainable AI (XAI) is critical in real-world applications where decisions impact people and businesses. By using domain-relevant explanations (TED), this project demonstrates how to interpret and trust model predictions effectively. Learners will gain hands-on experience in building interpretable machine learning pipelines, addressing data preprocessing challenges, and evaluating explainability outputs.\n",
    "\n",
    "This project provides a comprehensive guide to integrating advanced explainability techniques into machine learning workflows, ensuring fair, interpretable, and actionable outcomes for business decision-making.\n"
   ]
  },
  {
   "cell_type": "markdown",
   "id": "b16cddaa-87b9-4bfe-a69a-e0af1121b682",
   "metadata": {},
   "source": [
    "Refer to the following links for detailed documentation and resources:\n",
    "\n",
    "- [IBM AI Explainability 360 (AIX360)](https://aix360.res.ibm.com/?utm_source=skills_network&utm_content=in_lab_content_link&utm_id=Lab-xai_heloc_practice-v1_1732308887)\n",
    "- [IBM AIX360 Github](https://github.com/Trusted-AI/AIX360)\n",
    "- [IBM AIX360 Documentation](https://aix360.readthedocs.io/_/downloads/en/latest/pdf/)\n",
    "- [AIX360 Proactive Retention Tutorial](https://github.com/Trusted-AI/AIX360/blob/master/examples/tutorials/retention.ipynb).\n"
   ]
  },
  {
   "cell_type": "markdown",
   "id": "d53bbd30-84dd-4a34-8f65-faf17b746f28",
   "metadata": {},
   "source": [
    "## <a id='objectives'></a>[Objectives](#toc)\n",
    "\n",
    "By the end of this project, you will be able to:\n",
    "\n",
    "1. **Set up the environment**: For working with explainable AI (XAI) methods on an employee retention dataset.\n",
    "\n",
    "2. **Load and explore the employee retention dataset**: Understand the features influencing employee decisions to stay or leave, such as salary, department, and workload.\n",
    "\n",
    "3. **Apply XAI techniques to enhance interpretability**: Use explainability methods such as TED_CartesianExplainer.\n",
    "\n",
    "4. **Evaluate model interpretability**: Analyze the contribution of the XAI method in making predictions transparent and actionable for decision-makers.\n",
    "\n",
    "This project will provide practical skills to integrate XAI techniques into machine learning workflows, focusing on actionable insights for improving employee retention strategies.\n"
   ]
  },
  {
   "cell_type": "markdown",
   "id": "4ec8e771-7fc3-4a73-a968-c1c8a3ef1846",
   "metadata": {},
   "source": [
    "## <a id='setup'></a>[Setup](#toc)\n",
    "\n",
    "For this lab, we will be using the following libraries:\n",
    "\n",
    "- [`pandas`](https://pandas.pydata.org/?utm_medium=Exinfluencer&utm_source=Exinfluencer&utm_content=000026UJ&utm_term=10006555&utm_id=NA-SkillsNetwork-Channel-SkillsNetworkCoursesIBMML0187ENSkillsNetwork31430127-2021-01-01): for managing and analyzing structured data.\n",
    "- [`numpy`](https://numpy.org/?utm_medium=Exinfluencer&utm_source=Exinfluencer&utm_content=000026UJ&utm_term=10006555&utm_id=NA-SkillsNetwork-Channel-SkillsNetworkCoursesIBMML0187ENSkillsNetwork31430127-2021-01-01): for numerical computations.\n",
    "- [`sklearn`](https://scikit-learn.org/stable/?utm_medium=Exinfluencer&utm_source=Exinfluencer&utm_content=000026UJ&utm_term=10006555&utm_id=NA-SkillsNetwork-Channel-SkillsNetworkCoursesIBMML0187ENSkillsNetwork31430127-2021-01-01): for machine learning and pipeline functions, including:\n",
    "- [`seaborn`](https://seaborn.pydata.org/?utm_medium=Exinfluencer&utm_source=Exinfluencer&utm_content=000026UJ&utm_term=10006555&utm_id=NA-SkillsNetwork-Channel-SkillsNetworkCoursesIBMML0187ENSkillsNetwork31430127-2021-01-01): for creating visually appealing data visualizations.\n",
    "- [`matplotlib`](https://matplotlib.org/?utm_medium=Exinfluencer&utm_source=Exinfluencer&utm_content=000026UJ&utm_term=10006555&utm_id=NA-SkillsNetwork-Channel-SkillsNetworkCoursesIBMML0187ENSkillsNetwork31430127-2021-01-01): for additional plotting tools.\n",
    "- [`shap`](https://shap.readthedocs.io/en/latest/?utm_medium=Exinfluencer&utm_source=Exinfluencer&utm_content=000026UJ&utm_term=10006555&utm_id=NA-SkillsNetwork-Channel-SkillsNetworkCoursesIBMML0187ENSkillsNetwork31430127-2021-01-01): for SHAP-based local explainability.\n",
    "- [`AIX360`](https://aix360.readthedocs.io/en/latest/?utm_medium=Exinfluencer&utm_source=Exinfluencer&utm_content=000026UJ&utm_term=10006555&utm_id=NA-SkillsNetwork-Channel-SkillsNetworkCoursesIBMML0187ENSkillsNetwork31430127-2021-01-01): for advanced explainability methods:\n"
   ]
  },
  {
   "cell_type": "raw",
   "id": "5a111a46-d97b-4691-9b79-f3727f9dc05b",
   "metadata": {},
   "source": [
    "!pip install aix360==0.3.0 | tail -n 1\n",
    "!pip install tensorflow==2.18.0 | tail -n 1\n",
    "!pip install pandas==2.2.3 | tail -n 1\n",
    "!pip install shap==0.46.0 | tail -n 1\n",
    "!pip install --no-deps xport==3.6.1 | tail -n 1\n",
    "!pip install cvxpy==1.5.3 | tail -n 1\n",
    "!pip install seaborn==0.13.2 | tail -n 1\n",
    "!pip install matplotlib==3.10.0 | tail -n 1\n",
    "!pip install ibm-watsonx-ai==1.0.10 | tail -n 1"
   ]
  },
  {
   "cell_type": "code",
   "execution_count": 1,
   "id": "f455cb69-59be-4586-81ca-692a89636934",
   "metadata": {},
   "outputs": [],
   "source": [
    "import pandas as pd\n",
    "import numpy as np\n",
    "from sklearn.model_selection import train_test_split\n",
    "from sklearn.ensemble import RandomForestClassifier\n",
    "from sklearn.preprocessing import LabelEncoder\n",
    "from aix360.algorithms.ted import TED_CartesianExplainer\n",
    "import matplotlib.pyplot as plt\n",
    "import seaborn as sns\n",
    "from sklearn.metrics import confusion_matrix\n",
    "import shap\n",
    "from ibm_watsonx_ai import APIClient, Credentials\n",
    "from ibm_watsonx_ai.foundation_models.inference import ModelInference\n",
    "from ibm_watsonx_ai.metanames import GenTextParamsMetaNames as GenParams\n",
    "from ibm_watsonx_ai.foundation_models.utils.enums import DecodingMethods"
   ]
  },
  {
   "cell_type": "markdown",
   "id": "12d4dd0d-6142-4622-b9a7-c22f84128508",
   "metadata": {},
   "source": [
    "## <a id='background'></a>[Background](#toc)\n",
    "\n",
    "This tutorial uses the **Employee Retention** dataset. The dataset contains information about employees, such as their salary, department, and workload, with the target variable indicating whether an employee stayed or left the company. The goal is to analyze factors influencing employee retention and provide actionable insights to improve retention strategies.\n",
    "\n",
    "### Explainability framework: Insights from multiple angles\n",
    "\n",
    "To make AI-driven insights accessible, we focus on providing explanations that cater to different facets of employee retention analysis:\n",
    "\n",
    "#### 1. Feature-level explanations\n",
    "\n",
    "- Feature-level insights help HR professionals understand the impact of specific attributes (e.g., salary, workload) on employee retention.\n",
    "- The **TED_CartesianExplainer** provides feature-driven explanations, enabling HR teams to pinpoint critical factors contributing to employee attrition.\n",
    "\n",
    "#### 2. Comprehensive decision-making\n",
    "\n",
    "- By focusing on feature-level explanations, the analysis equips decision-makers with actionable recommendations to address retention challenges.\n",
    "- Interpretability ensures that models align with business goals, offering transparency in predictive outcomes.\n",
    "\n",
    "In the following sections, we will apply these explainability techniques to understand employee retention, providing valuable insights for HR and management teams.\n"
   ]
  },
  {
   "cell_type": "markdown",
   "id": "6ad54a82-45db-435f-867e-c861ab615258",
   "metadata": {},
   "source": [
    "## <a id='data-loading-and-preprocessing'></a>[Data loading and preprocessing](#toc)\n",
    "\n",
    "We use the pandas library to load the employee retention dataset. The data is stored in a CSV file named `HR-comma-sep.csv`.\n",
    "\n",
    "We will now load the dataset and inspect the first few rows of the data using pandas `.head()` function.\n"
   ]
  },
  {
   "cell_type": "code",
   "execution_count": 2,
   "id": "8983b2d5-acf0-40a3-93d1-fec9ec3c47e5",
   "metadata": {},
   "outputs": [
    {
     "data": {
      "text/html": [
       "<div>\n",
       "<style scoped>\n",
       "    .dataframe tbody tr th:only-of-type {\n",
       "        vertical-align: middle;\n",
       "    }\n",
       "\n",
       "    .dataframe tbody tr th {\n",
       "        vertical-align: top;\n",
       "    }\n",
       "\n",
       "    .dataframe thead th {\n",
       "        text-align: right;\n",
       "    }\n",
       "</style>\n",
       "<table border=\"1\" class=\"dataframe\">\n",
       "  <thead>\n",
       "    <tr style=\"text-align: right;\">\n",
       "      <th></th>\n",
       "      <th>satisfaction_level</th>\n",
       "      <th>last_evaluation</th>\n",
       "      <th>number_project</th>\n",
       "      <th>average_montly_hours</th>\n",
       "      <th>time_spend_company</th>\n",
       "      <th>Work_accident</th>\n",
       "      <th>left</th>\n",
       "      <th>promotion_last_5years</th>\n",
       "      <th>sales</th>\n",
       "      <th>salary</th>\n",
       "    </tr>\n",
       "  </thead>\n",
       "  <tbody>\n",
       "    <tr>\n",
       "      <th>0</th>\n",
       "      <td>0.38</td>\n",
       "      <td>0.53</td>\n",
       "      <td>2</td>\n",
       "      <td>157</td>\n",
       "      <td>3</td>\n",
       "      <td>0</td>\n",
       "      <td>1</td>\n",
       "      <td>0</td>\n",
       "      <td>sales</td>\n",
       "      <td>low</td>\n",
       "    </tr>\n",
       "    <tr>\n",
       "      <th>1</th>\n",
       "      <td>0.80</td>\n",
       "      <td>0.86</td>\n",
       "      <td>5</td>\n",
       "      <td>262</td>\n",
       "      <td>6</td>\n",
       "      <td>0</td>\n",
       "      <td>1</td>\n",
       "      <td>0</td>\n",
       "      <td>sales</td>\n",
       "      <td>medium</td>\n",
       "    </tr>\n",
       "    <tr>\n",
       "      <th>2</th>\n",
       "      <td>0.11</td>\n",
       "      <td>0.88</td>\n",
       "      <td>7</td>\n",
       "      <td>272</td>\n",
       "      <td>4</td>\n",
       "      <td>0</td>\n",
       "      <td>1</td>\n",
       "      <td>0</td>\n",
       "      <td>sales</td>\n",
       "      <td>medium</td>\n",
       "    </tr>\n",
       "    <tr>\n",
       "      <th>3</th>\n",
       "      <td>0.72</td>\n",
       "      <td>0.87</td>\n",
       "      <td>5</td>\n",
       "      <td>223</td>\n",
       "      <td>5</td>\n",
       "      <td>0</td>\n",
       "      <td>1</td>\n",
       "      <td>0</td>\n",
       "      <td>sales</td>\n",
       "      <td>low</td>\n",
       "    </tr>\n",
       "    <tr>\n",
       "      <th>4</th>\n",
       "      <td>0.37</td>\n",
       "      <td>0.52</td>\n",
       "      <td>2</td>\n",
       "      <td>159</td>\n",
       "      <td>3</td>\n",
       "      <td>0</td>\n",
       "      <td>1</td>\n",
       "      <td>0</td>\n",
       "      <td>sales</td>\n",
       "      <td>low</td>\n",
       "    </tr>\n",
       "  </tbody>\n",
       "</table>\n",
       "</div>"
      ],
      "text/plain": [
       "   satisfaction_level  last_evaluation  number_project  average_montly_hours  \\\n",
       "0                0.38             0.53               2                   157   \n",
       "1                0.80             0.86               5                   262   \n",
       "2                0.11             0.88               7                   272   \n",
       "3                0.72             0.87               5                   223   \n",
       "4                0.37             0.52               2                   159   \n",
       "\n",
       "   time_spend_company  Work_accident  left  promotion_last_5years  sales  \\\n",
       "0                   3              0     1                      0  sales   \n",
       "1                   6              0     1                      0  sales   \n",
       "2                   4              0     1                      0  sales   \n",
       "3                   5              0     1                      0  sales   \n",
       "4                   3              0     1                      0  sales   \n",
       "\n",
       "   salary  \n",
       "0     low  \n",
       "1  medium  \n",
       "2  medium  \n",
       "3     low  \n",
       "4     low  "
      ]
     },
     "execution_count": 2,
     "metadata": {},
     "output_type": "execute_result"
    }
   ],
   "source": [
    "df = pd.read_csv('https://cf-courses-data.s3.us.cloud-object-storage.appdomain.cloud/OZ7t9jYybOTL_3HOQTZ2CA/HR-comma-sep.csv')\n",
    "df.head()"
   ]
  },
  {
   "cell_type": "markdown",
   "id": "6a8522fc-cce4-4f70-ab0c-8ba2b0ad05a9",
   "metadata": {},
   "source": [
    "### <a id='dataset-description'></a>[Dataset description](#toc)\n",
    "\n",
    "Each row in the dataset represents an individual employee, with various features related to their work, performance, and demographics. The dataset is used to analyze factors influencing employee retention.\n",
    "\n",
    "The `info()` function provides a concise summary of the dataset, including the number of non-null entries, data types, and memory usage. A breakdown of the dataset follows:\n",
    "\n",
    "| Column                 | Type    | Description                                                                                               | Feature Type                       | \n",
    "|------------------------|---------|-----------------------------------------------------------------------------------------------------------|------------------------------------|\n",
    "| left **(target)**      | Integer | Target variable indicating if the employee left.                                                          | Categorical (0 = stayed, 1 = left) | \n",
    "| satisfaction_level     | Float   | Level of job satisfaction (scale: 0 to 1).                                                                | Numerical                          | \n",
    "| last_evaluation        | Float   | Performance evaluation score (scale: 0 to 1).                                                             | Numerical                          | \n",
    "| number_project         | Integer | Number of projects assigned to the employee.                                                             | Numerical                          |\n",
    "| average_montly_hours   | Integer | Average number of hours worked per month by the employee.                                                | Numerical                          | \n",
    "| time_spend_company     | Integer | Number of years the employee has been with the company.                                                  | Numerical                          | \n",
    "| Work_accident          | Integer | Indicator of whether the employee has had a work accident.                                               | Categorical (0 = No, 1 = Yes)      | \n",
    "| promotion_last_5years  | Integer | Indicator of whether the employee was promoted in the last 5 years.                                      | Categorical (0 = No, 1 = Yes)      |\n",
    "| sales                  | Object  | Department in which the employee works (e.g., Sales, HR, etc.).                                          | Categorical (sales, technical, support, IT, ...)                        | \n",
    "| salary                 | Object  | Salary category of the employee.                                                                         | Categorical (low, medium, high) |\n",
    "\n",
    "To learn more about the dataset have a look at this [link](https://www.kaggle.com/datasets/liujiaqi/hr-comma-sepcsv).\n"
   ]
  },
  {
   "cell_type": "markdown",
   "id": "f0541267-6d97-46fe-b427-de86e54f7677",
   "metadata": {},
   "source": [
    "### <a id='dataset-description'></a>[Dataset description](#toc)\n",
    "\n",
    "Each row in the dataset represents an individual employee, with various features related to their work, performance, and demographics. The dataset is used to analyze factors influencing employee retention.\n",
    "\n",
    "The `info()` function provides a concise summary of the dataset, including the number of non-null entries, data types, and memory usage. A breakdown of the dataset follows:\n",
    "\n",
    "| Column                 | Type    | Description                                                                                               | Feature Type                       | \n",
    "|------------------------|---------|-----------------------------------------------------------------------------------------------------------|------------------------------------|\n",
    "| left **(target)**      | Integer | Target variable indicating if the employee left.                                                          | Categorical (0 = stayed, 1 = left) | \n",
    "| satisfaction_level     | Float   | Level of job satisfaction (scale: 0 to 1).                                                                | Numerical                          | \n",
    "| last_evaluation        | Float   | Performance evaluation score (scale: 0 to 1).                                                             | Numerical                          | \n",
    "| number_project         | Integer | Number of projects assigned to the employee.                                                             | Numerical                          |\n",
    "| average_montly_hours   | Integer | Average number of hours worked per month by the employee.                                                | Numerical                          | \n",
    "| time_spend_company     | Integer | Number of years the employee has been with the company.                                                  | Numerical                          | \n",
    "| Work_accident          | Integer | Indicator of whether the employee has had a work accident.                                               | Categorical (0 = No, 1 = Yes)      | \n",
    "| promotion_last_5years  | Integer | Indicator of whether the employee was promoted in the last 5 years.                                      | Categorical (0 = No, 1 = Yes)      |\n",
    "| sales                  | Object  | Department in which the employee works (e.g., Sales, HR, etc.).                                          | Categorical (sales, technical, support, IT, ...)                        | \n",
    "| salary                 | Object  | Salary category of the employee.                                                                         | Categorical (low, medium, high) |\n",
    "\n",
    "To learn more about the dataset have a look at this [link](https://www.kaggle.com/datasets/liujiaqi/hr-comma-sepcsv).\n"
   ]
  },
  {
   "cell_type": "code",
   "execution_count": 3,
   "id": "89414848-0675-48df-b811-af2cb097343a",
   "metadata": {},
   "outputs": [
    {
     "name": "stdout",
     "output_type": "stream",
     "text": [
      "<class 'pandas.core.frame.DataFrame'>\n",
      "RangeIndex: 14999 entries, 0 to 14998\n",
      "Data columns (total 10 columns):\n",
      " #   Column                 Non-Null Count  Dtype  \n",
      "---  ------                 --------------  -----  \n",
      " 0   satisfaction_level     14999 non-null  float64\n",
      " 1   last_evaluation        14999 non-null  float64\n",
      " 2   number_project         14999 non-null  int64  \n",
      " 3   average_montly_hours   14999 non-null  int64  \n",
      " 4   time_spend_company     14999 non-null  int64  \n",
      " 5   Work_accident          14999 non-null  int64  \n",
      " 6   left                   14999 non-null  int64  \n",
      " 7   promotion_last_5years  14999 non-null  int64  \n",
      " 8   sales                  14999 non-null  object \n",
      " 9   salary                 14999 non-null  object \n",
      "dtypes: float64(2), int64(6), object(2)\n",
      "memory usage: 1.1+ MB\n"
     ]
    }
   ],
   "source": [
    "df.info()"
   ]
  },
  {
   "cell_type": "raw",
   "id": "148e8007-e5da-440f-a97e-3f9d624337e6",
   "metadata": {},
   "source": [
    "We can have a glance over if the dataset has any missing values or not.\n"
   ]
  },
  {
   "cell_type": "code",
   "execution_count": 4,
   "id": "be2c448f-4669-4ce0-9041-b2e153ee77b9",
   "metadata": {},
   "outputs": [
    {
     "data": {
      "text/plain": [
       "satisfaction_level       0\n",
       "last_evaluation          0\n",
       "number_project           0\n",
       "average_montly_hours     0\n",
       "time_spend_company       0\n",
       "Work_accident            0\n",
       "left                     0\n",
       "promotion_last_5years    0\n",
       "sales                    0\n",
       "salary                   0\n",
       "dtype: int64"
      ]
     },
     "execution_count": 4,
     "metadata": {},
     "output_type": "execute_result"
    }
   ],
   "source": [
    "df.isna().sum()"
   ]
  },
  {
   "cell_type": "raw",
   "id": "c5e97dc1-ad80-4d85-aadc-0902ac8cf6b8",
   "metadata": {},
   "source": [
    "From the above, we can see that we do not have any missing values.\n"
   ]
  },
  {
   "cell_type": "raw",
   "id": "eac051a6-15ae-4f26-8fc8-54514bb3c861",
   "metadata": {},
   "source": [
    "Let's have a look at frequency of each category in the `sales` column using `value_counts()` function. \n"
   ]
  },
  {
   "cell_type": "code",
   "execution_count": 5,
   "id": "bfc3821c-0c99-44ab-853f-90e9c39db5aa",
   "metadata": {},
   "outputs": [
    {
     "data": {
      "text/plain": [
       "sales\n",
       "sales          4140\n",
       "technical      2720\n",
       "support        2229\n",
       "IT             1227\n",
       "product_mng     902\n",
       "marketing       858\n",
       "RandD           787\n",
       "accounting      767\n",
       "hr              739\n",
       "management      630\n",
       "Name: count, dtype: int64"
      ]
     },
     "execution_count": 5,
     "metadata": {},
     "output_type": "execute_result"
    }
   ],
   "source": [
    "df['sales'].value_counts()"
   ]
  },
  {
   "cell_type": "markdown",
   "id": "10ea7325-5155-46bc-9167-cdaa1d125018",
   "metadata": {},
   "source": [
    "Similarly for `salary`:\n"
   ]
  },
  {
   "cell_type": "code",
   "execution_count": 6,
   "id": "55de8e5c-83eb-4623-a09f-e30c5672ba9f",
   "metadata": {},
   "outputs": [
    {
     "data": {
      "text/plain": [
       "salary\n",
       "low       7316\n",
       "medium    6446\n",
       "high      1237\n",
       "Name: count, dtype: int64"
      ]
     },
     "execution_count": 6,
     "metadata": {},
     "output_type": "execute_result"
    }
   ],
   "source": [
    "df['salary'].value_counts()"
   ]
  },
  {
   "cell_type": "markdown",
   "id": "d7e3ec06-0fce-47f5-ac51-eb8c5357c9b8",
   "metadata": {},
   "source": [
    "### <a id='data-encoding'></a>[Data encoding](#toc)\n",
    "\n",
    "To prepare the data for machine learning, we use the `LabelEncoder` from scikit-learn to encode the categorical columns `sales` and `salary` into numeric values. This step ensures that categorical data can be utilized effectively by the model.\n",
    "\n",
    "Here’s how the categorical values are mapped to numeric values:\n",
    "\n",
    "#### **Mapping for `sales` Column**\n",
    "| Original Category | Encoded Value | \n",
    "|--------------------|---------------|\n",
    "| sales             | 7             | \n",
    "| technical         | 9             | \n",
    "| support           | 8             | \n",
    "| IT                | 0             | \n",
    "| product_mng       | 6             | \n",
    "| marketing         | 5             | \n",
    "| RandD             | 1             | \n",
    "| accounting        | 2             | \n",
    "| hr                | 3             | \n",
    "| management        | 4             | \n",
    "\n",
    "#### **Mapping for `salary` Column**\n",
    "| Original Category | Encoded Value | \n",
    "|--------------------|---------------|\n",
    "| low               | 1             | \n",
    "| medium            | 2             | \n",
    "| high              | 0             |\n",
    "\n",
    "By encoding the data in this way, we ensure that the machine learning algorithms can process the categorical information effectively while maintaining interpretability.\n"
   ]
  },
  {
   "cell_type": "code",
   "execution_count": 7,
   "id": "ed0b9a0c-b507-4f12-bf58-8a406bb5f89e",
   "metadata": {},
   "outputs": [],
   "source": [
    "le = LabelEncoder()\n",
    "df['salary'] = le.fit_transform(df['salary'])\n",
    "df['sales'] = le.fit_transform(df['sales']) "
   ]
  },
  {
   "cell_type": "markdown",
   "id": "4ef12107-92c1-4edf-aa99-e9bbb5faa839",
   "metadata": {},
   "source": [
    "## <a id='model-training'></a>[Model training](#toc)\n",
    "\n",
    "Let's begin the model training phase by dividing the features and the target column.\n"
   ]
  },
  {
   "cell_type": "code",
   "execution_count": 8,
   "id": "cedc2fdd-15e3-469a-9edd-681c8ba5067d",
   "metadata": {},
   "outputs": [],
   "source": [
    "# Define features (X) and target (Y)\n",
    "X = df.drop(columns=['left'])  # 'left' is the target column (1=left, 0=stayed)\n",
    "y = df['left']"
   ]
  },
  {
   "cell_type": "code",
   "execution_count": 9,
   "id": "3c45ab6b-c5f7-4435-89d7-a9b822ab1959",
   "metadata": {},
   "outputs": [
    {
     "data": {
      "text/plain": [
       "left\n",
       "0    11428\n",
       "1     3571\n",
       "Name: count, dtype: int64"
      ]
     },
     "execution_count": 9,
     "metadata": {},
     "output_type": "execute_result"
    }
   ],
   "source": [
    "y.value_counts()"
   ]
  },
  {
   "cell_type": "raw",
   "id": "994eba69-d395-4f57-bfca-aaf3817b1661",
   "metadata": {},
   "source": [
    "Split the dataset into training (80%) and testing (20%) using scikit-learn's `train_test_split` method.\n"
   ]
  },
  {
   "cell_type": "code",
   "execution_count": 10,
   "id": "3bb43ab4-ff13-49fe-9e00-aafe10d4bd30",
   "metadata": {},
   "outputs": [],
   "source": [
    "# Split into training and test sets\n",
    "X_train, X_test, y_train, y_test = train_test_split(X, y, test_size=0.2, random_state=42)"
   ]
  },
  {
   "cell_type": "raw",
   "id": "ad770cf7-93af-405a-8da6-3741a1e78c6f",
   "metadata": {},
   "source": [
    "Train `RandomForestClassifier` on the training set.\n"
   ]
  },
  {
   "cell_type": "code",
   "execution_count": 11,
   "id": "35a19e93-fa98-4536-95d5-7da165c04199",
   "metadata": {},
   "outputs": [
    {
     "data": {
      "text/html": [
       "<style>#sk-container-id-1 {\n",
       "  /* Definition of color scheme common for light and dark mode */\n",
       "  --sklearn-color-text: black;\n",
       "  --sklearn-color-line: gray;\n",
       "  /* Definition of color scheme for unfitted estimators */\n",
       "  --sklearn-color-unfitted-level-0: #fff5e6;\n",
       "  --sklearn-color-unfitted-level-1: #f6e4d2;\n",
       "  --sklearn-color-unfitted-level-2: #ffe0b3;\n",
       "  --sklearn-color-unfitted-level-3: chocolate;\n",
       "  /* Definition of color scheme for fitted estimators */\n",
       "  --sklearn-color-fitted-level-0: #f0f8ff;\n",
       "  --sklearn-color-fitted-level-1: #d4ebff;\n",
       "  --sklearn-color-fitted-level-2: #b3dbfd;\n",
       "  --sklearn-color-fitted-level-3: cornflowerblue;\n",
       "\n",
       "  /* Specific color for light theme */\n",
       "  --sklearn-color-text-on-default-background: var(--sg-text-color, var(--theme-code-foreground, var(--jp-content-font-color1, black)));\n",
       "  --sklearn-color-background: var(--sg-background-color, var(--theme-background, var(--jp-layout-color0, white)));\n",
       "  --sklearn-color-border-box: var(--sg-text-color, var(--theme-code-foreground, var(--jp-content-font-color1, black)));\n",
       "  --sklearn-color-icon: #696969;\n",
       "\n",
       "  @media (prefers-color-scheme: dark) {\n",
       "    /* Redefinition of color scheme for dark theme */\n",
       "    --sklearn-color-text-on-default-background: var(--sg-text-color, var(--theme-code-foreground, var(--jp-content-font-color1, white)));\n",
       "    --sklearn-color-background: var(--sg-background-color, var(--theme-background, var(--jp-layout-color0, #111)));\n",
       "    --sklearn-color-border-box: var(--sg-text-color, var(--theme-code-foreground, var(--jp-content-font-color1, white)));\n",
       "    --sklearn-color-icon: #878787;\n",
       "  }\n",
       "}\n",
       "\n",
       "#sk-container-id-1 {\n",
       "  color: var(--sklearn-color-text);\n",
       "}\n",
       "\n",
       "#sk-container-id-1 pre {\n",
       "  padding: 0;\n",
       "}\n",
       "\n",
       "#sk-container-id-1 input.sk-hidden--visually {\n",
       "  border: 0;\n",
       "  clip: rect(1px 1px 1px 1px);\n",
       "  clip: rect(1px, 1px, 1px, 1px);\n",
       "  height: 1px;\n",
       "  margin: -1px;\n",
       "  overflow: hidden;\n",
       "  padding: 0;\n",
       "  position: absolute;\n",
       "  width: 1px;\n",
       "}\n",
       "\n",
       "#sk-container-id-1 div.sk-dashed-wrapped {\n",
       "  border: 1px dashed var(--sklearn-color-line);\n",
       "  margin: 0 0.4em 0.5em 0.4em;\n",
       "  box-sizing: border-box;\n",
       "  padding-bottom: 0.4em;\n",
       "  background-color: var(--sklearn-color-background);\n",
       "}\n",
       "\n",
       "#sk-container-id-1 div.sk-container {\n",
       "  /* jupyter's `normalize.less` sets `[hidden] { display: none; }`\n",
       "     but bootstrap.min.css set `[hidden] { display: none !important; }`\n",
       "     so we also need the `!important` here to be able to override the\n",
       "     default hidden behavior on the sphinx rendered scikit-learn.org.\n",
       "     See: https://github.com/scikit-learn/scikit-learn/issues/21755 */\n",
       "  display: inline-block !important;\n",
       "  position: relative;\n",
       "}\n",
       "\n",
       "#sk-container-id-1 div.sk-text-repr-fallback {\n",
       "  display: none;\n",
       "}\n",
       "\n",
       "div.sk-parallel-item,\n",
       "div.sk-serial,\n",
       "div.sk-item {\n",
       "  /* draw centered vertical line to link estimators */\n",
       "  background-image: linear-gradient(var(--sklearn-color-text-on-default-background), var(--sklearn-color-text-on-default-background));\n",
       "  background-size: 2px 100%;\n",
       "  background-repeat: no-repeat;\n",
       "  background-position: center center;\n",
       "}\n",
       "\n",
       "/* Parallel-specific style estimator block */\n",
       "\n",
       "#sk-container-id-1 div.sk-parallel-item::after {\n",
       "  content: \"\";\n",
       "  width: 100%;\n",
       "  border-bottom: 2px solid var(--sklearn-color-text-on-default-background);\n",
       "  flex-grow: 1;\n",
       "}\n",
       "\n",
       "#sk-container-id-1 div.sk-parallel {\n",
       "  display: flex;\n",
       "  align-items: stretch;\n",
       "  justify-content: center;\n",
       "  background-color: var(--sklearn-color-background);\n",
       "  position: relative;\n",
       "}\n",
       "\n",
       "#sk-container-id-1 div.sk-parallel-item {\n",
       "  display: flex;\n",
       "  flex-direction: column;\n",
       "}\n",
       "\n",
       "#sk-container-id-1 div.sk-parallel-item:first-child::after {\n",
       "  align-self: flex-end;\n",
       "  width: 50%;\n",
       "}\n",
       "\n",
       "#sk-container-id-1 div.sk-parallel-item:last-child::after {\n",
       "  align-self: flex-start;\n",
       "  width: 50%;\n",
       "}\n",
       "\n",
       "#sk-container-id-1 div.sk-parallel-item:only-child::after {\n",
       "  width: 0;\n",
       "}\n",
       "\n",
       "/* Serial-specific style estimator block */\n",
       "\n",
       "#sk-container-id-1 div.sk-serial {\n",
       "  display: flex;\n",
       "  flex-direction: column;\n",
       "  align-items: center;\n",
       "  background-color: var(--sklearn-color-background);\n",
       "  padding-right: 1em;\n",
       "  padding-left: 1em;\n",
       "}\n",
       "\n",
       "\n",
       "/* Toggleable style: style used for estimator/Pipeline/ColumnTransformer box that is\n",
       "clickable and can be expanded/collapsed.\n",
       "- Pipeline and ColumnTransformer use this feature and define the default style\n",
       "- Estimators will overwrite some part of the style using the `sk-estimator` class\n",
       "*/\n",
       "\n",
       "/* Pipeline and ColumnTransformer style (default) */\n",
       "\n",
       "#sk-container-id-1 div.sk-toggleable {\n",
       "  /* Default theme specific background. It is overwritten whether we have a\n",
       "  specific estimator or a Pipeline/ColumnTransformer */\n",
       "  background-color: var(--sklearn-color-background);\n",
       "}\n",
       "\n",
       "/* Toggleable label */\n",
       "#sk-container-id-1 label.sk-toggleable__label {\n",
       "  cursor: pointer;\n",
       "  display: block;\n",
       "  width: 100%;\n",
       "  margin-bottom: 0;\n",
       "  padding: 0.5em;\n",
       "  box-sizing: border-box;\n",
       "  text-align: center;\n",
       "}\n",
       "\n",
       "#sk-container-id-1 label.sk-toggleable__label-arrow:before {\n",
       "  /* Arrow on the left of the label */\n",
       "  content: \"▸\";\n",
       "  float: left;\n",
       "  margin-right: 0.25em;\n",
       "  color: var(--sklearn-color-icon);\n",
       "}\n",
       "\n",
       "#sk-container-id-1 label.sk-toggleable__label-arrow:hover:before {\n",
       "  color: var(--sklearn-color-text);\n",
       "}\n",
       "\n",
       "/* Toggleable content - dropdown */\n",
       "\n",
       "#sk-container-id-1 div.sk-toggleable__content {\n",
       "  max-height: 0;\n",
       "  max-width: 0;\n",
       "  overflow: hidden;\n",
       "  text-align: left;\n",
       "  /* unfitted */\n",
       "  background-color: var(--sklearn-color-unfitted-level-0);\n",
       "}\n",
       "\n",
       "#sk-container-id-1 div.sk-toggleable__content.fitted {\n",
       "  /* fitted */\n",
       "  background-color: var(--sklearn-color-fitted-level-0);\n",
       "}\n",
       "\n",
       "#sk-container-id-1 div.sk-toggleable__content pre {\n",
       "  margin: 0.2em;\n",
       "  border-radius: 0.25em;\n",
       "  color: var(--sklearn-color-text);\n",
       "  /* unfitted */\n",
       "  background-color: var(--sklearn-color-unfitted-level-0);\n",
       "}\n",
       "\n",
       "#sk-container-id-1 div.sk-toggleable__content.fitted pre {\n",
       "  /* unfitted */\n",
       "  background-color: var(--sklearn-color-fitted-level-0);\n",
       "}\n",
       "\n",
       "#sk-container-id-1 input.sk-toggleable__control:checked~div.sk-toggleable__content {\n",
       "  /* Expand drop-down */\n",
       "  max-height: 200px;\n",
       "  max-width: 100%;\n",
       "  overflow: auto;\n",
       "}\n",
       "\n",
       "#sk-container-id-1 input.sk-toggleable__control:checked~label.sk-toggleable__label-arrow:before {\n",
       "  content: \"▾\";\n",
       "}\n",
       "\n",
       "/* Pipeline/ColumnTransformer-specific style */\n",
       "\n",
       "#sk-container-id-1 div.sk-label input.sk-toggleable__control:checked~label.sk-toggleable__label {\n",
       "  color: var(--sklearn-color-text);\n",
       "  background-color: var(--sklearn-color-unfitted-level-2);\n",
       "}\n",
       "\n",
       "#sk-container-id-1 div.sk-label.fitted input.sk-toggleable__control:checked~label.sk-toggleable__label {\n",
       "  background-color: var(--sklearn-color-fitted-level-2);\n",
       "}\n",
       "\n",
       "/* Estimator-specific style */\n",
       "\n",
       "/* Colorize estimator box */\n",
       "#sk-container-id-1 div.sk-estimator input.sk-toggleable__control:checked~label.sk-toggleable__label {\n",
       "  /* unfitted */\n",
       "  background-color: var(--sklearn-color-unfitted-level-2);\n",
       "}\n",
       "\n",
       "#sk-container-id-1 div.sk-estimator.fitted input.sk-toggleable__control:checked~label.sk-toggleable__label {\n",
       "  /* fitted */\n",
       "  background-color: var(--sklearn-color-fitted-level-2);\n",
       "}\n",
       "\n",
       "#sk-container-id-1 div.sk-label label.sk-toggleable__label,\n",
       "#sk-container-id-1 div.sk-label label {\n",
       "  /* The background is the default theme color */\n",
       "  color: var(--sklearn-color-text-on-default-background);\n",
       "}\n",
       "\n",
       "/* On hover, darken the color of the background */\n",
       "#sk-container-id-1 div.sk-label:hover label.sk-toggleable__label {\n",
       "  color: var(--sklearn-color-text);\n",
       "  background-color: var(--sklearn-color-unfitted-level-2);\n",
       "}\n",
       "\n",
       "/* Label box, darken color on hover, fitted */\n",
       "#sk-container-id-1 div.sk-label.fitted:hover label.sk-toggleable__label.fitted {\n",
       "  color: var(--sklearn-color-text);\n",
       "  background-color: var(--sklearn-color-fitted-level-2);\n",
       "}\n",
       "\n",
       "/* Estimator label */\n",
       "\n",
       "#sk-container-id-1 div.sk-label label {\n",
       "  font-family: monospace;\n",
       "  font-weight: bold;\n",
       "  display: inline-block;\n",
       "  line-height: 1.2em;\n",
       "}\n",
       "\n",
       "#sk-container-id-1 div.sk-label-container {\n",
       "  text-align: center;\n",
       "}\n",
       "\n",
       "/* Estimator-specific */\n",
       "#sk-container-id-1 div.sk-estimator {\n",
       "  font-family: monospace;\n",
       "  border: 1px dotted var(--sklearn-color-border-box);\n",
       "  border-radius: 0.25em;\n",
       "  box-sizing: border-box;\n",
       "  margin-bottom: 0.5em;\n",
       "  /* unfitted */\n",
       "  background-color: var(--sklearn-color-unfitted-level-0);\n",
       "}\n",
       "\n",
       "#sk-container-id-1 div.sk-estimator.fitted {\n",
       "  /* fitted */\n",
       "  background-color: var(--sklearn-color-fitted-level-0);\n",
       "}\n",
       "\n",
       "/* on hover */\n",
       "#sk-container-id-1 div.sk-estimator:hover {\n",
       "  /* unfitted */\n",
       "  background-color: var(--sklearn-color-unfitted-level-2);\n",
       "}\n",
       "\n",
       "#sk-container-id-1 div.sk-estimator.fitted:hover {\n",
       "  /* fitted */\n",
       "  background-color: var(--sklearn-color-fitted-level-2);\n",
       "}\n",
       "\n",
       "/* Specification for estimator info (e.g. \"i\" and \"?\") */\n",
       "\n",
       "/* Common style for \"i\" and \"?\" */\n",
       "\n",
       ".sk-estimator-doc-link,\n",
       "a:link.sk-estimator-doc-link,\n",
       "a:visited.sk-estimator-doc-link {\n",
       "  float: right;\n",
       "  font-size: smaller;\n",
       "  line-height: 1em;\n",
       "  font-family: monospace;\n",
       "  background-color: var(--sklearn-color-background);\n",
       "  border-radius: 1em;\n",
       "  height: 1em;\n",
       "  width: 1em;\n",
       "  text-decoration: none !important;\n",
       "  margin-left: 1ex;\n",
       "  /* unfitted */\n",
       "  border: var(--sklearn-color-unfitted-level-1) 1pt solid;\n",
       "  color: var(--sklearn-color-unfitted-level-1);\n",
       "}\n",
       "\n",
       ".sk-estimator-doc-link.fitted,\n",
       "a:link.sk-estimator-doc-link.fitted,\n",
       "a:visited.sk-estimator-doc-link.fitted {\n",
       "  /* fitted */\n",
       "  border: var(--sklearn-color-fitted-level-1) 1pt solid;\n",
       "  color: var(--sklearn-color-fitted-level-1);\n",
       "}\n",
       "\n",
       "/* On hover */\n",
       "div.sk-estimator:hover .sk-estimator-doc-link:hover,\n",
       ".sk-estimator-doc-link:hover,\n",
       "div.sk-label-container:hover .sk-estimator-doc-link:hover,\n",
       ".sk-estimator-doc-link:hover {\n",
       "  /* unfitted */\n",
       "  background-color: var(--sklearn-color-unfitted-level-3);\n",
       "  color: var(--sklearn-color-background);\n",
       "  text-decoration: none;\n",
       "}\n",
       "\n",
       "div.sk-estimator.fitted:hover .sk-estimator-doc-link.fitted:hover,\n",
       ".sk-estimator-doc-link.fitted:hover,\n",
       "div.sk-label-container:hover .sk-estimator-doc-link.fitted:hover,\n",
       ".sk-estimator-doc-link.fitted:hover {\n",
       "  /* fitted */\n",
       "  background-color: var(--sklearn-color-fitted-level-3);\n",
       "  color: var(--sklearn-color-background);\n",
       "  text-decoration: none;\n",
       "}\n",
       "\n",
       "/* Span, style for the box shown on hovering the info icon */\n",
       ".sk-estimator-doc-link span {\n",
       "  display: none;\n",
       "  z-index: 9999;\n",
       "  position: relative;\n",
       "  font-weight: normal;\n",
       "  right: .2ex;\n",
       "  padding: .5ex;\n",
       "  margin: .5ex;\n",
       "  width: min-content;\n",
       "  min-width: 20ex;\n",
       "  max-width: 50ex;\n",
       "  color: var(--sklearn-color-text);\n",
       "  box-shadow: 2pt 2pt 4pt #999;\n",
       "  /* unfitted */\n",
       "  background: var(--sklearn-color-unfitted-level-0);\n",
       "  border: .5pt solid var(--sklearn-color-unfitted-level-3);\n",
       "}\n",
       "\n",
       ".sk-estimator-doc-link.fitted span {\n",
       "  /* fitted */\n",
       "  background: var(--sklearn-color-fitted-level-0);\n",
       "  border: var(--sklearn-color-fitted-level-3);\n",
       "}\n",
       "\n",
       ".sk-estimator-doc-link:hover span {\n",
       "  display: block;\n",
       "}\n",
       "\n",
       "/* \"?\"-specific style due to the `<a>` HTML tag */\n",
       "\n",
       "#sk-container-id-1 a.estimator_doc_link {\n",
       "  float: right;\n",
       "  font-size: 1rem;\n",
       "  line-height: 1em;\n",
       "  font-family: monospace;\n",
       "  background-color: var(--sklearn-color-background);\n",
       "  border-radius: 1rem;\n",
       "  height: 1rem;\n",
       "  width: 1rem;\n",
       "  text-decoration: none;\n",
       "  /* unfitted */\n",
       "  color: var(--sklearn-color-unfitted-level-1);\n",
       "  border: var(--sklearn-color-unfitted-level-1) 1pt solid;\n",
       "}\n",
       "\n",
       "#sk-container-id-1 a.estimator_doc_link.fitted {\n",
       "  /* fitted */\n",
       "  border: var(--sklearn-color-fitted-level-1) 1pt solid;\n",
       "  color: var(--sklearn-color-fitted-level-1);\n",
       "}\n",
       "\n",
       "/* On hover */\n",
       "#sk-container-id-1 a.estimator_doc_link:hover {\n",
       "  /* unfitted */\n",
       "  background-color: var(--sklearn-color-unfitted-level-3);\n",
       "  color: var(--sklearn-color-background);\n",
       "  text-decoration: none;\n",
       "}\n",
       "\n",
       "#sk-container-id-1 a.estimator_doc_link.fitted:hover {\n",
       "  /* fitted */\n",
       "  background-color: var(--sklearn-color-fitted-level-3);\n",
       "}\n",
       "</style><div id=\"sk-container-id-1\" class=\"sk-top-container\"><div class=\"sk-text-repr-fallback\"><pre>RandomForestClassifier(random_state=42)</pre><b>In a Jupyter environment, please rerun this cell to show the HTML representation or trust the notebook. <br />On GitHub, the HTML representation is unable to render, please try loading this page with nbviewer.org.</b></div><div class=\"sk-container\" hidden><div class=\"sk-item\"><div class=\"sk-estimator fitted sk-toggleable\"><input class=\"sk-toggleable__control sk-hidden--visually\" id=\"sk-estimator-id-1\" type=\"checkbox\" checked><label for=\"sk-estimator-id-1\" class=\"sk-toggleable__label fitted sk-toggleable__label-arrow fitted\">&nbsp;&nbsp;RandomForestClassifier<a class=\"sk-estimator-doc-link fitted\" rel=\"noreferrer\" target=\"_blank\" href=\"https://scikit-learn.org/1.5/modules/generated/sklearn.ensemble.RandomForestClassifier.html\">?<span>Documentation for RandomForestClassifier</span></a><span class=\"sk-estimator-doc-link fitted\">i<span>Fitted</span></span></label><div class=\"sk-toggleable__content fitted\"><pre>RandomForestClassifier(random_state=42)</pre></div> </div></div></div></div>"
      ],
      "text/plain": [
       "RandomForestClassifier(random_state=42)"
      ]
     },
     "execution_count": 11,
     "metadata": {},
     "output_type": "execute_result"
    }
   ],
   "source": [
    "# Train a RandomForestClassifier\n",
    "model = RandomForestClassifier(random_state=42)\n",
    "model.fit(X_train, y_train)"
   ]
  },
  {
   "cell_type": "markdown",
   "id": "78c6dce7-7502-44c3-b399-b449d080a9fc",
   "metadata": {},
   "source": [
    "Let's evaluate the performance of the RandomForestClassifier by testing it on the testing set and visualizing the confusion matrix. This visualization provides a clear breakdown of the model's performance, highlighting the number of correct and incorrect predictions for each class. It offers valuable insights into the classifier's accuracy and identifies potential areas for improvement."
   ]
  },
  {
   "cell_type": "code",
   "execution_count": 12,
   "id": "27627ffe-8516-44b3-9260-04ff2e771132",
   "metadata": {},
   "outputs": [
    {
     "data": {
      "image/png": "[encoded data removed]",
      "text/plain": [
       "<Figure size 600x400 with 2 Axes>"
      ]
     },
     "metadata": {},
     "output_type": "display_data"
    }
   ],
   "source": [
    "y_pred = model.predict(X_test)\n",
    "\n",
    "# Generate the confusion matrix\n",
    "cm = confusion_matrix(y_test, y_pred)\n",
    "\n",
    "# Create a heatmap for visualization\n",
    "plt.figure(figsize=(6, 4))\n",
    "sns.heatmap(cm, annot=True, fmt='d', cmap='Blues', xticklabels=['Stayed', 'Left'], yticklabels=['Stayed', 'Left'])\n",
    "plt.title('Confusion Matrix')\n",
    "plt.xlabel('Predicted Label')\n",
    "plt.ylabel('True Label')\n",
    "plt.show()"
   ]
  },
  {
   "cell_type": "markdown",
   "id": "5c3bca4c-a73e-4cc8-89bc-7e64505d66c0",
   "metadata": {},
   "source": [
    "#### Insights from the confusion matrix\n",
    "\n",
    "1. **Correct predictions**:\n",
    "   - The model correctly predicted **680 employees who left** and **2285 employees who stayed**.\n",
    "\n",
    "2. **Incorrect predictions**:\n",
    "   - **False Positives (9)**: Predicted employees would leave, but they stayed.\n",
    "   - **False Negatives (26)**: Predicted employees would stay, but they left.\n",
    "\n",
    "3. **Key takeaways**:\n",
    "   - The model performs well overall, with most predictions being accurate.\n",
    "   - Reducing false negatives (employees leaving but predicted to stay) should be prioritized, as these cases are critical for improving retention strategies.\n"
   ]
  },
  {
   "cell_type": "markdown",
   "id": "6d504caa-1ba2-40c2-9fde-6bcfa850c731",
   "metadata": {},
   "source": [
    "### <a id='shap-kernel-explainer'></a>[SHAP KernelExplainer](#toc)\n",
    "\n",
    "Before going to the `KernelExplainer`, let's learn about SHAP first.\n",
    "\n",
    "#### 1. **What is SHAP?**\n",
    "   - **SHAP (SHapley Additive exPlanations)** is a framework that helps us understand machine learning models by explaining their predictions.\n",
    "   - It assigns importance values to each feature in the data to show how much each feature contributes to a specific prediction.\n",
    "   - **Why and where do we use SHAP?**\n",
    "     - SHAP is used to make black-box machine learning models (e.g., Random Forests or Neural Networks) interpretable and understandable.\n",
    "     - For example, in this project, SHAP helps explain why the model predicts that an employee will leave based on features like salary, satisfaction level, and workload.\n",
    "\n",
    "#### 2. **What are Shapley values?**\n",
    "   - Shapley values come from cooperative game theory. They measure how much each \"player\" (or in our case, each feature) contributes to the \"game\" (or the model's prediction).\n",
    "   - Imagine each feature in the dataset is a player contributing to the final prediction. The Shapley value for a feature tells us **how much that feature helps or harms the prediction**, considering all possible combinations of features.\n",
    "   - **Simple Explanation**:\n",
    "     - For example, if the prediction is that an employee will leave, Shapley values might tell us that \"low satisfaction\" contributes 60% to the prediction, \"high workload\" contributes 30%, and \"low salary\" contributes 10%.\n",
    "   - **Why and where do we use Shapley Values?**\n",
    "     - They allow us to fairly and precisely assign credit to features for their role in a prediction.\n",
    "     - In this project, Shapley values are used to identify key factors influencing employee retention, making the model's decisions more transparent.\n",
    "    \n",
    "#### 3. **What is SHAP KernelExplainer?**\n",
    "   - The **SHAP KernelExplainer** is a tool within SHAP that works with any type of machine learning model, even the most complex ones like Random Forests or Neural Networks.\n",
    "   - It calculates Shapley values using **weighted linear regression**, which simplifies how we compute the importance of each feature.\n",
    "   - We all know about Linear regression, **Weighted Linear Regression** adds a twist: it gives more importance (weight) to certain data points when finding the best-fit line. In KernelExplainer, this helps focus on the most relevant data points for a specific prediction.\n",
    "   - In our case, it helps calculate how important each feature (e.g., salary, satisfaction) is to the model's decision.\n",
    "\n",
    "#### **How does it add to the project?**\n",
    "   - **Feature-Level Insights**: SHAP KernelExplainer tells us exactly how each feature impacts the model’s prediction for an employee (e.g., \"low satisfaction level\" increases the chance of leaving).\n",
    "   - **Model Transparency**: It makes the `RandomForestClassifier` more interpretable by explaining why the model makes specific decisions.\n",
    "   - **Actionable Insights**: By identifying features that drive employee attrition, it helps HR teams focus on areas that need attention (e.g., improving satisfaction or reducing workload).\n",
    "   - **A Complete Explanation Framework**: Combined with other techniques like Protodash, SHAP KernelExplainer provides a deeper understanding of the model's behavior at the feature level.\n",
    "\n",
    "In summary, SHAP KernelExplainer is an essential tool in this project, making the predictions interpretable, actionable, and trustworthy. If you want to learn more about SHAP visit their [documentation](https://shap.readthedocs.io/en/latest/).\n"
   ]
  },
  {
   "cell_type": "markdown",
   "id": "881bbf30-8908-4a1d-aba9-6aa52522bca6",
   "metadata": {},
   "source": [
    "![shap](https://cf-courses-data.s3.us.cloud-object-storage.appdomain.cloud/HS7LoDmOqmCYVMyA5lkzfw/Employee%20Retention.png)\n"
   ]
  },
  {
   "cell_type": "markdown",
   "id": "c7824005-ab20-40e8-9ded-bcb47e50e5d7",
   "metadata": {},
   "source": [
    "This diagram illustrates how a machine learning model predicts employee retention by analyzing key factors such as **Salary**, **Satisfaction Level**, and **Workload**. These input variables serve as contributors to the model, influencing the prediction outcome.\n",
    "\n",
    "The core question addressed is: *\"How to fairly distribute the prediction's contribution among features influencing employee retention?\"* Tools like SHAP can help attribute the model's predictions to these features, providing clear and interpretable insights into why an employee is predicted to leave or stay. This process ensures transparency and actionable insights for HR decision-making.\n"
   ]
  },
  {
   "cell_type": "markdown",
   "id": "d970ed57-80d1-4c82-a028-8fb5feb53b64",
   "metadata": {},
   "source": [
    "Here, we initialize the SHAP KernelExplainer.\n"
   ]
  },
  {
   "cell_type": "code",
   "execution_count": 13,
   "id": "b4c6640d-9fb5-4264-8828-4511a628100c",
   "metadata": {},
   "outputs": [],
   "source": [
    "# Initialize SHAP KernelExplainer\n",
    "explainer = shap.KernelExplainer(model.predict_proba, shap.kmeans(X_train, 10))  # sampling to reduce computation"
   ]
  },
  {
   "cell_type": "markdown",
   "id": "2108d355-a514-4349-bd99-4a39de8fdb48",
   "metadata": {},
   "source": [
    "Generate SHAP values using the `X_test` to find feature importance.\n",
    "\n",
    "It may take a minute or two to execute, please be patient.\n"
   ]
  },
  {
   "cell_type": "code",
   "execution_count": 14,
   "id": "87c69db1-d989-48cd-8017-d4f8a0283385",
   "metadata": {},
   "outputs": [
    {
     "data": {
      "application/vnd.jupyter.widget-view+json": {
       "model_id": "7ab366e84a344fdd84665a6b2fe012bf",
       "version_major": 2,
       "version_minor": 0
      },
      "text/plain": [
       "  0%|          | 0/3000 [00:00<?, ?it/s]"
      ]
     },
     "metadata": {},
     "output_type": "display_data"
    }
   ],
   "source": [
    "# Generate SHAP values using the updated approach\n",
    "shap_values = explainer(X_test)  # This will return an Explanation object"
   ]
  },
  {
   "cell_type": "markdown",
   "id": "0a3c4253-33b0-4dec-ba99-7bcd5c46da34",
   "metadata": {},
   "source": [
    "After getting the SHAP values, let's visualize the feature importance using `summary_plot` function\n"
   ]
  },
  {
   "cell_type": "code",
   "execution_count": 15,
   "id": "a7d859c7-157d-4aa7-a252-4d2d5db4ea29",
   "metadata": {},
   "outputs": [
    {
     "data": {
      "image/png": "[encoded data removed]",
      "text/plain": [
       "<Figure size 800x510 with 1 Axes>"
      ]
     },
     "metadata": {},
     "output_type": "display_data"
    }
   ],
   "source": [
    "# Plot summary of SHAP values for class 1 (employees who left)\n",
    "shap.summary_plot(shap_values[...,1], X_test, plot_type=\"bar\", feature_names=X.columns)"
   ]
  },
  {
   "cell_type": "markdown",
   "id": "12f979d7-2cd8-4804-9d59-a05902be84ed",
   "metadata": {},
   "source": [
    "The SHAP feature importance plot highlights that **satisfaction level** is the most significant factor influencing employee retention predictions, followed by **last evaluation** and **average monthly hours**. These top features indicate that employee satisfaction and performance metrics play a critical role in predicting attrition. Less impactful features, such as **salary** and **work accidents**, suggest they contribute minimally to the model's predictions in this dataset.\n",
    "\n",
    "Homework for you: Try to learn more about Shapley values by inspecting them.\n"
   ]
  },
  {
   "cell_type": "markdown",
   "id": "c753c128-df30-4a4e-a1de-b04cc0f95a82",
   "metadata": {},
   "source": [
    "#### Random forest feature importance\n",
    "\n",
    "Random forest is a model that provides feature importance by showing how much each feature contributes to reducing errors in the model. SHAP, on the other hand, explains the impact of each feature on individual predictions. While random forest gives a global view, SHAP provides detailed insights for specific predictions.\n"
   ]
  },
  {
   "cell_type": "code",
   "execution_count": 16,
   "id": "43a4d36d-8ab1-48e5-8e68-20a10a8d8050",
   "metadata": {},
   "outputs": [
    {
     "name": "stdout",
     "output_type": "stream",
     "text": [
      "                 Feature  Importance\n",
      "0     satisfaction_level    0.359759\n",
      "4     time_spend_company    0.183945\n",
      "2         number_project    0.164631\n",
      "3   average_montly_hours    0.148849\n",
      "1        last_evaluation    0.116385\n",
      "7                  sales    0.012143\n",
      "8                 salary    0.008177\n",
      "5          Work_accident    0.005007\n",
      "6  promotion_last_5years    0.001103\n"
     ]
    },
    {
     "data": {
      "image/png": "[encoded data removed]",
      "text/plain": [
       "<Figure size 1000x600 with 1 Axes>"
      ]
     },
     "metadata": {},
     "output_type": "display_data"
    }
   ],
   "source": [
    "feature_importances = model.feature_importances_\n",
    "feature_names = X.columns\n",
    "\n",
    "# Display feature importances\n",
    "importance_df = pd.DataFrame({'Feature': feature_names, 'Importance': feature_importances})\n",
    "importance_df = importance_df.sort_values(by='Importance', ascending=False)\n",
    "\n",
    "print(importance_df)\n",
    "\n",
    "# Plot feature importances\n",
    "plt.figure(figsize=(10, 6))\n",
    "plt.barh(importance_df['Feature'], importance_df['Importance'])\n",
    "plt.xlabel('Importance')\n",
    "plt.title('Feature Importance from Random Forest')\n",
    "plt.gca().invert_yaxis()\n",
    "plt.show()"
   ]
  },
  {
   "cell_type": "markdown",
   "id": "6eed8a2a-d064-4c01-b454-8ec68888e9fc",
   "metadata": {},
   "source": [
    "The Random Forest feature importance plot shows **satisfaction level** as the top predictor of employee retention, followed by **time spent at the company**, **number of projects**, and **average monthly hours**. Less impactful features, like **salary** and **work accidents**, contribute minimally. Both methods highlight similar top features, but SHAP provides deeper insights by explaining how these features impact individual predictions.\n",
    "\n",
    "Both methods highlight important features, and as seen in the graphs, they often identify similar top features like **satisfaction level** and **average monthly hours**. However, SHAP can go further by explaining how these features specifically impact individual predictions, providing deeper insights into their roles in driving model outcomes.\n"
   ]
  },
  {
   "cell_type": "markdown",
   "id": "114ed0bc-68e5-4258-b837-5b89e2eef860",
   "metadata": {},
   "source": [
    "### <a id='explanation-mapping'></a>[Explanation mapping](#toc)\n",
    "\n",
    "We define a mapping that links potential reasons for employee attrition to unique explanation codes. The `generate_explanation_code` function aligns SHAP value rankings with prioritized factors (e.g., satisfaction, workload, salary) to identify the primary reason behind each prediction. This ensures the explanation highlights the most impactful factor, offering HR teams clear, actionable insights for addressing retention challenges.\n"
   ]
  },
  {
   "cell_type": "code",
   "execution_count": 17,
   "id": "a150a2f5-6a47-48d5-9ee0-847b7e9dcdf4",
   "metadata": {},
   "outputs": [],
   "source": [
    "# Define explanation mapping with unique codes for each explanation\n",
    "expl_mapping = {\n",
    "    \"Low satisfaction level may lead to leaving.\": 1,\n",
    "    \"Low performance with a high workload.\": 2,\n",
    "    \"High monthly hours may lead to burnout.\": 3,\n",
    "    \"Long tenure with no promotion can increase likelihood of leaving.\": 4,\n",
    "    \"Low salary is a common reason for attrition.\": 5,\n",
    "    \"No strong indicators for leaving.\": 0  # Default explanation when no significant factors are found\n",
    "}\n",
    "\n",
    "# Generate a single explanation code based on priority\n",
    "def generate_explanation_code(row):\n",
    "    # Define priority of explanations: satisfaction > workload > hours > tenure > salary\n",
    "    if row['satisfaction_level'] < 0.4:\n",
    "        return expl_mapping[\"Low satisfaction level may lead to leaving.\"]\n",
    "    elif row['last_evaluation'] < 0.5 and row['number_project'] >= 5:\n",
    "        return expl_mapping[\"Low performance with a high workload.\"]\n",
    "    elif row['average_montly_hours'] > 250:\n",
    "        return expl_mapping[\"High monthly hours may lead to burnout.\"]\n",
    "    elif row['time_spend_company'] > 3:\n",
    "        return expl_mapping[\"Long tenure with no promotion can increase likelihood of leaving.\"]\n",
    "    elif row['salary'] == 0:  # low salary\n",
    "        return expl_mapping[\"Low salary is a common reason for attrition.\"]\n",
    "    else:\n",
    "        return expl_mapping[\"No strong indicators for leaving.\"]"
   ]
  },
  {
   "cell_type": "markdown",
   "id": "50bb5d44-1d97-4147-ad28-b2cd5860d3be",
   "metadata": {},
   "source": [
    "Below is code for applying the mapping to the entire dataset, before moving to the model training.\n"
   ]
  },
  {
   "cell_type": "code",
   "execution_count": 18,
   "id": "32475056-1341-405b-8fee-cef73813a6f1",
   "metadata": {},
   "outputs": [
    {
     "name": "stdout",
     "output_type": "stream",
     "text": [
      "0    1\n",
      "1    3\n",
      "2    1\n",
      "3    4\n",
      "4    1\n",
      "Name: Explanation, dtype: int64\n"
     ]
    }
   ],
   "source": [
    "# Apply to the entire dataset\n",
    "df['Explanation'] = df.apply(generate_explanation_code, axis=1)\n",
    "\n",
    "# Display a sample explanation to verify the encoding\n",
    "print(df['Explanation'].head())"
   ]
  },
  {
   "cell_type": "markdown",
   "id": "da750d52-e1c2-40eb-8038-5fed565d0979",
   "metadata": {},
   "source": [
    "We can generate human-readable reasons for why several employees left by first flipping the keys and values of the explanation mapping. This allows us to map explanation codes back to their English descriptions, providing interpretable insights for the first few samples of employees who left.\n"
   ]
  },
  {
   "cell_type": "code",
   "execution_count": 19,
   "id": "80a2a4a9-1a37-4886-a4cb-ba367263c1c5",
   "metadata": {},
   "outputs": [],
   "source": [
    "flipped_dict = {value: key for key, value in expl_mapping.items()}"
   ]
  },
  {
   "cell_type": "markdown",
   "id": "b1fafcd0-2efa-4229-af5e-602dc5f4a9b6",
   "metadata": {},
   "source": [
    "This filters the rows in the dataframe `df` where `left == 1` (employees who left) and retrieves the first 5 explanation codes from the `Explanation` column as a list.\n"
   ]
  },
  {
   "cell_type": "code",
   "execution_count": 20,
   "id": "dc1b19d5-f3f7-4b5c-aa16-f036b845d925",
   "metadata": {},
   "outputs": [
    {
     "data": {
      "text/plain": [
       "['Low satisfaction level may lead to leaving.',\n",
       " 'High monthly hours may lead to burnout.',\n",
       " 'Low satisfaction level may lead to leaving.',\n",
       " 'Long tenure with no promotion can increase likelihood of leaving.',\n",
       " 'Low satisfaction level may lead to leaving.']"
      ]
     },
     "execution_count": 20,
     "metadata": {},
     "output_type": "execute_result"
    }
   ],
   "source": [
    "[flipped_dict[i] for i in df[df['left']==1]['Explanation'].to_list()[0:5]]"
   ]
  },
  {
   "cell_type": "markdown",
   "id": "6388424c-187c-4f65-b5ec-9d1fe0db9d7a",
   "metadata": {},
   "source": [
    "### <a id='training-the-ted-cartesian-explainer-model'></a>[Training the TED_CartesianExplainer model](#toc)\n",
    "\n",
    "The `TED_CartesianExplainer` is an explainability tool that links machine learning predictions to human-readable explanations. This makes complex models easier to understand for end users, such as HR teams or managers.\n",
    "\n",
    "#### What is TED_CartesianExplainer?\n",
    "- It maps features or feature combinations to predefined explanations, helping interpret predictions in context.\n",
    "- For example, it can explain predictions like \"Low satisfaction level may lead to leaving\" based on the features' impact.\n",
    "- It integrates predictions and explanations into a unified framework, ensuring clarity and consistency.\n",
    "\n",
    "#### How is TED_CartesianExplainer different?\n",
    "| Aspect                        | TED_CartesianExplainer                                                                                  | Traditional Models                                                                                        |\n",
    "|-------------------------------|---------------------------------------------------------------------------------------------------------|-----------------------------------------------------------------------------------------------------------|\n",
    "| **Focus on Explanations**     | Provides feature-level insights tied to predictions, making them actionable (e.g., \"Low salary impacts attrition\"). | Predicts outcomes but does not inherently provide reasons behind predictions.                             |\n",
    "| **Integration of Explanations** | Combines predictions and explanations into one framework for consistency.                              | Requires additional tools like SHAP or LIME for post-hoc explanations.                                   |\n",
    "| **Actionable Insights**       | Highlights critical factors for decision-making, aligned with domain knowledge.                        | Focuses on performance but lacks built-in interpretability.                                               |\n",
    "\n",
    "#### Why use TED for employee retention?\n",
    "- **Explain Predictions**: Understand why the model predicts an employee might leave or stay.\n",
    "- **Highlight Key Factors**: Identify critical drivers like low satisfaction or high workload.\n",
    "- **Build Trust**: Enable HR teams to trust AI predictions with clear, interpretable explanations.\n",
    "\n",
    "By linking predictions to specific features, `TED_CartesianExplainer` provides actionable insights to address employee retention challenges effectively. If you want to learn more about the model, read the original paper on [Arxiv](https://arxiv.org/pdf/1811.04896).\n"
   ]
  },
  {
   "cell_type": "markdown",
   "id": "7e41712b-bd31-4e33-a2ef-a4dee40fffc7",
   "metadata": {},
   "source": [
    "### <a id='employee-retention-example'></a>[Employee retention example with explanations using TED framework](#toc)\n",
    "\n",
    "This example demonstrates how the TED framework can be used to classify employee retention predictions and provide meaningful explanations for each decision. It includes the regular dataset, augmented dataset with explanations, and reasoning, along with a new integer label \\( Y' \\).\n",
    "\n",
    "| **Feature 1**                | **Feature 2**              | **Feature 3**               | **Label (Y)**             |\n",
    "|-------------------------------|----------------------------|-----------------------------|----------------------------|\n",
    "| Low Satisfaction              | High Workload             | Low Salary                 | Left                      |\n",
    "| High Satisfaction             | Moderate Workload         | High Salary                | Stayed                    |\n",
    "| Low Satisfaction              | High Workload             | High Salary                | Left                      |\n",
    "| Moderate Satisfaction         | Moderate Workload         | High Salary                | Stayed                    |\n",
    "| Low Satisfaction              | Moderate Workload         | Low Salary                 | Left                      |\n",
    "\n",
    "#### Explanation codes (E)\n",
    "- **Reason for leaving**: Low satisfaction or high workload.\n",
    "- **Reason for staying**: High satisfaction and high salary or moderate workload.\n",
    "\n",
    "#### Augmented dataset with integer labels \\( Y' \\)\n",
    "The TED framework assigns a unique integer \\( Y' \\) to each combination of \\( Y \\) (decision) and \\( E \\) (explanation):\n",
    "\n",
    "| **Feature 1**                | **Feature 2**              | **Feature 3**               | **Label (Y)**             | **Explanation (E)**                         | **Label (Y')**   |\n",
    "|-------------------------------|----------------------------|-----------------------------|----------------------------|---------------------------------------------|------------------|\n",
    "| Low Satisfaction              | High Workload             | Low Salary                 | Left                      | Low satisfaction                            | 1                |\n",
    "| High Satisfaction             | Moderate Workload         | High Salary                | Stayed                    | High satisfaction and high salary           | 3                |\n",
    "| Low Satisfaction              | High Workload             | High Salary                | Left                      | High workload                               | 2                |\n",
    "| Moderate Satisfaction         | Moderate Workload         | High Salary                | Stayed                    | Moderate workload                           | 4                |\n",
    "| Low Satisfaction              | Moderate Workload         | Low Salary                 | Left                      | Low salary                                  | 5                |\n",
    "\n",
    "We now simply train the model with the new augmented dataset.\n"
   ]
  },
  {
   "cell_type": "markdown",
   "id": "afa38b61-94a9-4bbc-81af-0faee5f7c0e1",
   "metadata": {},
   "source": [
    "Now, let's move on with the training. First, we divide the dataset into three parts, `X` (whole dataset without `left` and `explanation` feature), `Y` (target column `left`) and E (containing all the `Explanation` that we mapped).\n"
   ]
  },
  {
   "cell_type": "code",
   "execution_count": 22,
   "id": "333c5f88-85e2-4c02-9f85-986b23c3af2c",
   "metadata": {},
   "outputs": [],
   "source": [
    "# Decompose the dataset into X, Y, E\n",
    "X = df.drop(columns=['left', 'Explanation'])\n",
    "Y = df['left']\n",
    "E = df['Explanation']"
   ]
  },
  {
   "cell_type": "code",
   "execution_count": 23,
   "id": "b6ba5417-5356-4aac-b06f-eb2393d2fe6a",
   "metadata": {},
   "outputs": [],
   "source": [
    "# Split into train and test sets\n",
    "X_train, X_test, Y_train, Y_test, E_train, E_test = train_test_split(X, Y, E, test_size=0.20, random_state=42)"
   ]
  },
  {
   "cell_type": "markdown",
   "id": "2ab6bb7f-7b3d-4edc-a213-b208e53f59fc",
   "metadata": {},
   "source": [
    "We now initialize the `TED_CartesianExplainer`, a tool from AIX360, with a machine learning model (e.g., `RandomForestClassifier`). This explainer associates the model’s predictions with predefined, human-readable explanations, enabling feature-level insights into why specific predictions were made. By linking features to domain-relevant explanations, it enhances the interpretability and trustworthiness of the model.\n"
   ]
  },
  {
   "cell_type": "code",
   "execution_count": 24,
   "id": "39140b31-d0e5-45f3-9f86-34cbb859fe9c",
   "metadata": {},
   "outputs": [],
   "source": [
    "estimator = RandomForestClassifier(random_state=42) # Or use DecisionTreeClassifier, SVM, etc.\n",
    "ted = TED_CartesianExplainer(estimator)"
   ]
  },
  {
   "cell_type": "code",
   "execution_count": 25,
   "id": "8fa29b47-7946-44d5-af10-ebcb769af3a6",
   "metadata": {},
   "outputs": [
    {
     "name": "stdout",
     "output_type": "stream",
     "text": [
      "Training the classifier\n",
      "Training finished\n"
     ]
    }
   ],
   "source": [
    "print(\"Training the classifier\")\n",
    "\n",
    "ted.fit(X_train, Y_train, E_train)   # train classifier\n",
    "\n",
    "print(\"Training finished\")"
   ]
  },
  {
   "cell_type": "markdown",
   "id": "595eafd9-2a77-4cf2-a0bc-cc8044cd4c5c",
   "metadata": {},
   "source": [
    "### <a id='ted-framework-evaluation'></a>[TED framework evaluation](#toc)\n",
    "\n",
    "Now, let's evaluate the `TED_CartesianExplainer` by testing it on sample employee data. We'll use predefined feature vectors to simulate predictions and explanations. This step allows us to assess whether the model not only predicts accurately but also provides clear, human-readable explanations, making it a valuable tool for HR decision-making.\n",
    "\n",
    "#### Label strings\n",
    "- **IS**: The employee IS at risk of leaving (i.e., the model predicts a high likelihood that this employee will leave the company).\n",
    "- **IS NOT**: The employee IS NOT at risk of leaving (i.e., the model predicts the employee is likely to stay).\n"
   ]
  },
  {
   "cell_type": "code",
   "execution_count": 26,
   "id": "cf696258-6704-44e8-b3e8-9f59e70e9297",
   "metadata": {},
   "outputs": [],
   "source": [
    "Label_Strings = [\"IS\", \"IS NOT\"]"
   ]
  },
  {
   "cell_type": "markdown",
   "id": "eb9c13e5-9ed3-4fdb-a45c-12a974e467cb",
   "metadata": {},
   "source": [
    "Define function to convert label to string:\n"
   ]
  },
  {
   "cell_type": "code",
   "execution_count": 27,
   "id": "95af8e7d-50bc-46f4-b0a9-87960b495ace",
   "metadata": {},
   "outputs": [],
   "source": [
    "def labelToString(label):\n",
    "    if label == 1:\n",
    "        return Label_Strings[0]\n",
    "    else:\n",
    "        return Label_Strings[1]\n",
    "    # return Label_Strings[0] if label == 1 else Label_Strings[1]"
   ]
  },
  {
   "cell_type": "code",
   "execution_count": 28,
   "id": "014e865d-ccfa-49fe-8951-c30bace4be05",
   "metadata": {},
   "outputs": [
    {
     "name": "stdout",
     "output_type": "stream",
     "text": [
      "Employee #1 IS a retention risk with explanation: Low satisfaction level may lead to leaving.\n"
     ]
    }
   ],
   "source": [
    "# List of feature columns used for training\n",
    "feature_columns = [\"satisfaction_level\", \"last_evaluation\", \"number_project\", \n",
    "                   \"average_montly_hours\", \"time_spend_company\", \n",
    "                   \"Work_accident\", \"promotion_last_5years\", \"sales\", \"salary\"]\n",
    "\n",
    "# Example feature vector based on the structure of your HR dataset\n",
    "# Each row represents values for: \n",
    "# [satisfaction_level, last_evaluation, number_project, average_montly_hours, \n",
    "#  time_spend_company, Work_accident, promotion_last_5years, sales, salary]\n",
    "X1 = [[0.38, 0.53, 2, 157, 3, 0, 0, 7, 1]]  # Sample feature vector\n",
    "\n",
    "# Convert to dataframe because we trained RandomForestClassifier with feature names.\n",
    "# Providing feature names avoids warnings but is not strictly required.\n",
    "X1_df = pd.DataFrame(X1, columns=feature_columns)\n",
    "\n",
    "# Predict label and explanation for Employee #1\n",
    "Y1, E1 = ted.predict_explain(X1_df)\n",
    "\n",
    "result_x1 = f\"Employee #1 {labelToString(Y1[0])} a retention risk with explanation: {flipped_dict[int(E1[0])]}\"\n",
    "print(result_x1)"
   ]
  },
  {
   "cell_type": "code",
   "execution_count": 29,
   "id": "3423be6c-e048-4b05-908a-f1957cc91d86",
   "metadata": {},
   "outputs": [
    {
     "name": "stdout",
     "output_type": "stream",
     "text": [
      "Employee #2 IS a retention risk with explanation: High monthly hours may lead to burnout.\n"
     ]
    }
   ],
   "source": [
    "# Another example\n",
    "X2 = [[0.80, 0.86, 5, 262, 6, 0, 0, 7, 2]]  # Another sample feature vector\n",
    "\n",
    "X2_df = pd.DataFrame(X2, columns=feature_columns)\n",
    "\n",
    "# Predict label and explanation for Employee #2\n",
    "Y2, E2 = ted.predict_explain(X2_df)\n",
    "\n",
    "result_x2 = f\"Employee #2 {labelToString(Y2[0])} a retention risk with explanation: {flipped_dict[int(E2[0])]}\"\n",
    "print(result_x2)"
   ]
  },
  {
   "cell_type": "markdown",
   "id": "ecd58bc2-0ca1-4524-850c-cd940bfce5f5",
   "metadata": {},
   "source": [
    "### <a id='accuracy-of-the-model'></a>[Accuracy of the model](#toc)\n",
    "\n",
    "We can evaluate the accuracy of the model using the `.score` method. This method assesses the following:\n",
    "\n",
    "- **Target label accuracy (`Y`)**: Measures how accurately the model predicts the target labels.\n",
    "- **Explanation accuracy (`E`)**: Evaluates the accuracy of the explanations provided by the model.\n",
    "- **Combined accuracy (`Y+`)**: Combines the accuracy of predicting both the target labels and their corresponding explanations.\n",
    "\n",
    "The **Y+ accuracy** reflects how well the classifier performs in making correct predictions while also providing accurate and meaningful explanations. This metric is essential for ensuring that the model's outputs are both reliable and interpretable, building trust and confidence in its decisions.\n"
   ]
  },
  {
   "cell_type": "code",
   "execution_count": 31,
   "id": "ff76084b-3c64-4f99-aa70-327d115b4c52",
   "metadata": {},
   "outputs": [
    {
     "name": "stdout",
     "output_type": "stream",
     "text": [
      "Evaluating accuracy of TED-enhanced classifier on test data\n",
      " Accuracy of predicting Y labels: 98.77%\n",
      " Accuracy of predicting explanations: 99.93%\n",
      " Accuracy of predicting Y + explanations: 98.70%\n"
     ]
    }
   ],
   "source": [
    "YE_accuracy, Y_accuracy, E_accuracy = ted.score(X_test, Y_test, E_test)    # evaluate the classifier\n",
    "print(\"Evaluating accuracy of TED-enhanced classifier on test data\")\n",
    "print(' Accuracy of predicting Y labels: %.2f%%' % (100*Y_accuracy))\n",
    "print(' Accuracy of predicting explanations: %.2f%%' % (100*E_accuracy))\n",
    "print(' Accuracy of predicting Y + explanations: %.2f%%' % (100*YE_accuracy))"
   ]
  },
  {
   "cell_type": "markdown",
   "id": "b5d0e172-19c7-4ce3-a684-f1ccf094a637",
   "metadata": {},
   "source": [
    "The `TED_CartesianExplainer` achieved **98.77% accuracy** for target labels (`Y`), **99.93% accuracy** for explanations, and **98.70% combined accuracy** for predicting both. This highlights the model's reliability in making accurate predictions and providing meaningful explanations.\n"
   ]
  },
  {
   "cell_type": "markdown",
   "id": "c71dd137-e385-4bc1-a8b1-090109b008f5",
   "metadata": {},
   "source": [
    "### Secret Mission "
   ]
  },
  {
   "cell_type": "markdown",
   "id": "6563f475-787e-4c71-b639-84458d165297",
   "metadata": {},
   "source": [
    "Exercise 1: Data loading and preprocessing\n",
    "To start off, Load the Customer Churn Dataset from https://cf-courses-data.s3.us.cloud-object-storage.appdomain.cloud/LwubmHsv4Nd22Ld1_hfKGg/customer-churn-dataset.csv and explore its structure.\n",
    "\n",
    "Perform data preprocessing by dropping unnecessary columns and encoding categorical variables into numerical values.\n",
    "\n"
   ]
  },
  {
   "cell_type": "code",
   "execution_count": 54,
   "id": "a66aa810-5ab3-45c6-88e3-a22d4e564500",
   "metadata": {},
   "outputs": [],
   "source": [
    "# Load the dataset\n",
    "data = pd.read_csv('https://cf-courses-data.s3.us.cloud-object-storage.appdomain.cloud/LwubmHsv4Nd22Ld1_hfKGg/customer-churn-dataset.csv')\n",
    "\n",
    "# Drop unnecessary columns\n",
    "data = data.drop(columns=[\"CustomerID\"])\n",
    "\n",
    "# Encode categorical variables\n",
    "label_encoders = {}\n",
    "categorical_columns = [\"Gender\", \"Subscription Type\", \"Contract Length\"]\n",
    "\n",
    "for col in categorical_columns:\n",
    "    le = LabelEncoder()\n",
    "    data[col] = le.fit_transform(data[col])\n",
    "    label_encoders[col] = le"
   ]
  },
  {
   "cell_type": "markdown",
   "id": "b8e16a8c-c276-4952-87f0-b660f9b4f585",
   "metadata": {},
   "source": [
    "### <a id='exercise-2-prepare-data-for-model-training'></a>[Exercise 2: Prepare data for model training](#toc)\n",
    "\n",
    "In this exercise, standardize the numerical features of the dataset and split the data into training and testing sets. Train a **Support Vector Machine (SVM)** classifier to predict customer churn and visualize the performance of the model using a confusion matrix heatmap.\n"
   ]
  },
  {
   "cell_type": "code",
   "execution_count": 57,
   "id": "04840369-7359-471d-8b6c-253bc17b5de2",
   "metadata": {},
   "outputs": [
    {
     "data": {
      "image/png": "[encoded data removed]",
      "text/plain": [
       "<Figure size 600x400 with 2 Axes>"
      ]
     },
     "metadata": {},
     "output_type": "display_data"
    }
   ],
   "source": [
    "\n",
    "from sklearn.svm import SVC\n",
    "from sklearn.preprocessing import LabelEncoder, StandardScaler\n",
    "\n",
    "# Separate features and target\n",
    "X = data.drop(columns=[\"Churn\"])\n",
    "y = data[\"Churn\"]\n",
    "\n",
    "# Standardize numerical features\n",
    "scaler = StandardScaler()\n",
    "X = pd.DataFrame(scaler.fit_transform(X), columns=X.columns)\n",
    "\n",
    "# Split the data into train and test sets\n",
    "X_train, X_test, y_train, y_test = train_test_split(X, y, test_size=0.2, random_state=42)\n",
    "\n",
    "# Train an SVM classifier\n",
    "svm_model = SVC(probability=True, random_state=42)\n",
    "svm_model.fit(X_train, y_train)\n",
    "\n",
    "y_pred = svm_model.predict(X_test)\n",
    "\n",
    "# Generate the confusion matrix\n",
    "cm = confusion_matrix(y_test, y_pred)\n",
    "\n",
    "# Create a heatmap for visualization\n",
    "plt.figure(figsize=(6, 4))\n",
    "sns.heatmap(cm, annot=True, fmt='d', cmap='Blues', xticklabels=['Not Churned', 'Churned'], yticklabels=['Not Churned', 'Churned'])\n",
    "plt.title('Confusion Matrix')\n",
    "plt.xlabel('Predicted Label')\n",
    "plt.ylabel('True Label')\n",
    "plt.show()\n",
    "\n",
    "\n"
   ]
  }
 ],
 "metadata": {
  "kernelspec": {
   "display_name": "Python 3 (ipykernel)",
   "language": "python",
   "name": "python3"
  },
  "language_info": {
   "codemirror_mode": {
    "name": "ipython",
    "version": 3
   },
   "file_extension": ".py",
   "mimetype": "text/x-python",
   "name": "python",
   "nbconvert_exporter": "python",
   "pygments_lexer": "ipython3",
   "version": "3.12.3"
  }
 },
 "nbformat": 4,
 "nbformat_minor": 5
}
